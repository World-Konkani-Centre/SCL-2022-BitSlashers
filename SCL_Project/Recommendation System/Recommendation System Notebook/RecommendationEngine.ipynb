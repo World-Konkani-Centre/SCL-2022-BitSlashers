{
  "nbformat": 4,
  "nbformat_minor": 0,
  "metadata": {
    "colab": {
      "name": "RecommendationEngine.ipynb",
      "provenance": [],
      "collapsed_sections": []
    },
    "kernelspec": {
      "name": "python3",
      "display_name": "Python 3"
    },
    "language_info": {
      "name": "python"
    }
  },
  "cells": [
    {
      "cell_type": "markdown",
      "source": [
        "Import Necessary Libraries"
      ],
      "metadata": {
        "id": "pGdfXC5QyIkI"
      }
    },
    {
      "cell_type": "code",
      "source": [
        "import numpy as np\n",
        "import pandas as pd\n",
        "from scipy import spatial"
      ],
      "metadata": {
        "id": "19LxU6uNrR-G"
      },
      "execution_count": 1,
      "outputs": []
    },
    {
      "cell_type": "markdown",
      "source": [
        "Class to Handle the Recommendation Engine"
      ],
      "metadata": {
        "id": "ZUtCmd8dyLv6"
      }
    },
    {
      "cell_type": "code",
      "source": [
        "class RecommendationSystem:\n",
        "\n",
        "  def __init__(self,data_path=\"/content/data.csv\"):\n",
        "    self.df= pd.read_csv(data_path)\n",
        "    self.df.rename(columns={'FirstName LastName':\"Name\"},inplace=True)\n",
        "    self.textFields= [\"uid\",\"Name\",\"Wheat Seller\",\"Sugercane Seller\",\"Rubber Seller\",\"Maize Seller\",\"Barley Seller\"]\n",
        "\n",
        "    self.productValues = {0:[\"Wheat Freqeuncy\",\"Wheat Quantity\"],1:[\"Sugercane Freqeuncy\",\"Sugercane Quantity\"],\n",
        "                          2:[\"Rubber Freqeuncy\",\"Rubber Quantity\"],3:[\"Maize Freqeuncy\",\"Maize Quantity\"],\n",
        "                          4:[\"Barley Freqeuncy\",\"Barley Quantity\"]}\n",
        "    self.productCosines= pd.DataFrame(columns=[\"ReferenceIndex\",\"ProductId\",\"CosineSim\"])\n",
        "\n",
        "  \n",
        "  def find_Cosine_Similarity(self, custId, numberOfRecommendations=10, numberOfPeople=10):\n",
        "\n",
        "    cust_ind=self.df.index[self.df.uid==custId]\n",
        "    custData=self.df[self.df[\"uid\"]==custId]\n",
        "    print(\"Customer: \",(self.df.iloc[cust_ind]['Name'].values)[0])\n",
        "    self.dfNumeric = self.df[self.df.columns.difference(self.textFields)]\n",
        "    custData = custData[custData.columns.difference(self.textFields)]\n",
        "    cosineInitials=np.full(shape=self.df.shape[0],fill_value=1.01)\n",
        "    self.dfCosineSim=pd.DataFrame(cosineInitials,columns=[\"Cosine Similarity\"])\n",
        "    # Find Cosine Similarity with Our User and Other Users\n",
        "    for ind in self.dfNumeric.index:\n",
        "      if ind==cust_ind:\n",
        "        continue;\n",
        "      self.dfCosineSim[\"Cosine Similarity\"].values[ind]=spatial.distance.cosine(custData.values[0],\n",
        "                                                                                self.dfNumeric.values[ind])\n",
        "    # Sort the dataframe based on Similarity\n",
        "    self.dfCosineSim.sort_values(by = \"Cosine Similarity\",inplace=True)\n",
        "    self.topIndexes = [i for i in self.dfCosineSim.index[:numberOfPeople]]\n",
        "    self.dfTopTen = self.dfNumeric.loc[self.topIndexes]\n",
        "    self.newIndex=1\n",
        "    \n",
        "    # Find cosine similarity among products among the similar users\n",
        "    for ind in range(0,numberOfPeople):\n",
        "      for prod in self.productValues:\n",
        "        try:\n",
        "          prodCosine= spatial.distance.cosine(custData[self.productValues[prod]].values[0],\n",
        "                                              self.dfTopTen[self.productValues[prod]].values[ind])\n",
        "          self.productCosines.loc[len(self.productCosines)] = [ind,prod,prodCosine]\n",
        "          self.newIndex+=1\n",
        "        except Exception as e:\n",
        "          print(\"Error: \",e)\n",
        "    \n",
        "    self.productCosines.sort_values(by = \"CosineSim\",inplace=True)\n",
        "\n",
        "    print(\"Most Similar 5 suggestions are:\\n\",self.productCosines.head(int(numberOfRecommendations/2)),\"\\n\")\n",
        "    print(\"Most DiSimilar similar 5 suggestions are:\\n\",self.productCosines.tail(int(numberOfRecommendations/2)),\"\\n\")\n",
        "\n",
        "    self.dfSimilar = (self.productCosines.head(int(numberOfRecommendations/2))).ProductId\n",
        "    self.dfDiSimilar = (self.productCosines.tail(int(numberOfRecommendations/2))).ProductId\n",
        "\n",
        "    # Prepare the results with a combination of similar and dissimilar products.\n",
        "    self.result = list()\n",
        "    for i in range(0,int(numberOfRecommendations/2)):\n",
        "      SimilarprodId= self.dfSimilar.values[i]\n",
        "      self.result.append([SimilarprodId,(self.productValues[SimilarprodId][0]).split(\" \")[0],\"Similar\"])\n",
        "      DiSimilarprodId = self.dfDiSimilar.values[int(numberOfRecommendations/2)-i-1]\n",
        "      self.result.append([DiSimilarprodId,(self.productValues[DiSimilarprodId][0]).split(\" \")[0],\"DiSimilar\"])\n",
        "\n",
        "\n",
        "\n",
        "\n",
        "    return self.result\n",
        "\n"
      ],
      "metadata": {
        "id": "qI-oH0frbKM9"
      },
      "execution_count": 42,
      "outputs": []
    },
    {
      "cell_type": "markdown",
      "source": [
        "Example"
      ],
      "metadata": {
        "id": "xVjeMEACy-WO"
      }
    },
    {
      "cell_type": "code",
      "source": [
        "myrecommend = RecommendationSystem(\"/content/data.csv\")\n",
        "\n",
        "result = myrecommend.find_Cosine_Similarity(\"user_001\")\n",
        "print(\"Recommendation is:\\n\")\n",
        "result"
      ],
      "metadata": {
        "colab": {
          "base_uri": "https://localhost:8080/"
        },
        "id": "YCRea940IGyZ",
        "outputId": "3bf97970-fb20-4d4e-f9a3-a7bd5ef02495"
      },
      "execution_count": 43,
      "outputs": [
        {
          "output_type": "stream",
          "name": "stdout",
          "text": [
            "Customer:  Hayden Ripley\n",
            "Most Similar 5 suggestions are:\n",
            "     ReferenceIndex  ProductId  CosineSim\n",
            "24             4.0        4.0        0.0\n",
            "29             5.0        4.0        0.0\n",
            "28             5.0        3.0        0.0\n",
            "48             9.0        3.0        0.0\n",
            "23             4.0        3.0        0.0 \n",
            "\n",
            "Most DiSimilar similar 5 suggestions are:\n",
            "     ReferenceIndex  ProductId  CosineSim\n",
            "2              0.0        2.0   0.000110\n",
            "32             6.0        2.0   0.000197\n",
            "44             8.0        4.0   0.000647\n",
            "14             2.0        4.0   0.003303\n",
            "49             9.0        4.0   0.004076 \n",
            "\n",
            "Recommendation is:\n",
            "\n"
          ]
        },
        {
          "output_type": "stream",
          "name": "stderr",
          "text": [
            "/usr/local/lib/python3.7/dist-packages/scipy/spatial/distance.py:699: RuntimeWarning: invalid value encountered in double_scalars\n",
            "  dist = 1.0 - uv / np.sqrt(uu * vv)\n"
          ]
        },
        {
          "output_type": "execute_result",
          "data": {
            "text/plain": [
              "[[4.0, 'Barley', 'Similar'],\n",
              " [4.0, 'Barley', 'DiSimilar'],\n",
              " [4.0, 'Barley', 'Similar'],\n",
              " [4.0, 'Barley', 'DiSimilar'],\n",
              " [3.0, 'Maize', 'Similar'],\n",
              " [4.0, 'Barley', 'DiSimilar'],\n",
              " [3.0, 'Maize', 'Similar'],\n",
              " [2.0, 'Rubber', 'DiSimilar'],\n",
              " [3.0, 'Maize', 'Similar'],\n",
              " [2.0, 'Rubber', 'DiSimilar']]"
            ]
          },
          "metadata": {},
          "execution_count": 43
        }
      ]
    }
  ]
}