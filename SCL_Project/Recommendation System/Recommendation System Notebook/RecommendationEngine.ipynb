{
 "cells": [
  {
   "cell_type": "code",
   "execution_count": null,
   "metadata": {
    "colab": {
     "base_uri": "https://localhost:8080/"
    },
    "id": "ErySaZ2-rOv1",
    "outputId": "e85cc9ef-ad96-460c-fb96-6da6b8981f8a"
   },
   "outputs": [
    {
     "name": "stderr",
     "output_type": "stream",
     "text": [
      "Cloning into 'farmer-app-datasets'...\n"
     ]
    }
   ],
   "source": [
    "%%bash\n",
    "git clone https://github.com/kptriescoding/farmer-app-datasets"
   ]
  },
  {
   "cell_type": "code",
   "execution_count": null,
   "metadata": {
    "id": "19LxU6uNrR-G"
   },
   "outputs": [],
   "source": [
    "import numpy as np\n",
    "import pandas as pd\n",
    "from scipy import spatial"
   ]
  },
  {
   "cell_type": "code",
   "execution_count": null,
   "metadata": {
    "id": "qI-oH0frbKM9"
   },
   "outputs": [],
   "source": [
    "class RecommendationSystem:\n",
    "\n",
    "  def __init__(self,data_path=\"/content/data.csv\"):\n",
    "    self.df= pd.read_csv(data_path)\n",
    "    self.df.rename(columns={'FirstName LastName':\"Name\"},inplace=True)\n",
    "    self.textFields= [\"Name\",\"Wheat Seller\",\"Sugercane Seller\",\"Rubber Seller\",\"Maize Seller\",\"Barley Seller\"]\n",
    "\n",
    "    self.productValues = {0:[\"Wheat Freqeuncy\",\"Wheat Quantity\"],1:[\"Sugercane Freqeuncy\",\"Sugercane Quantity\"],\n",
    "                          2:[\"Rubber Freqeuncy\",\"Rubber Quantity\"],3:[\"Maize Freqeuncy\",\"Maize Quantity\"],\n",
    "                          4:[\"Barley Freqeuncy\",\"Barley Quantity\"]}\n",
    "    self.productCosines= pd.DataFrame(columns=[\"ReferenceIndex\",\"ProductId\",\"CosineSim\"])\n",
    "\n",
    "  \n",
    "  def find_Cosine_Similarity(self, cust, numberOfRecommendations=10, numberOfPeople=10):\n",
    "\n",
    "    cust_ind=self.df.index[self.df.Name==cust]\n",
    "    custData=self.df[self.df[\"Name\"]==cust]\n",
    "    self.dfNumeric = self.df[self.df.columns.difference(self.textFields)]\n",
    "    custData = custData[custData.columns.difference(self.textFields)]\n",
    "    cosineInitials=np.full(shape=self.df.shape[0],fill_value=1.01)\n",
    "    self.dfCosineSim=pd.DataFrame(cosineInitials,columns=[\"Cosine Similarity\"])\n",
    "    for ind in self.dfNumeric.index:\n",
    "      if ind==cust_ind:\n",
    "        continue;\n",
    "      self.dfCosineSim[\"Cosine Similarity\"].values[ind]=spatial.distance.cosine(custData.values[0],\n",
    "                                                                                self.dfNumeric.values[ind])\n",
    "\n",
    "    self.dfCosineSim.sort_values(by = \"Cosine Similarity\",inplace=True)\n",
    "    self.topIndexes = [i for i in self.dfCosineSim.index[:numberOfPeople]]\n",
    "    self.dfTopTen = self.dfNumeric.loc[self.topIndexes]\n",
    "    # self.dfTopTen= self.dfCosineSim.head(numberOfPeople)\n",
    "    self.newIndex=1\n",
    "    \n",
    "    for ind in range(0,numberOfPeople):\n",
    "      for prod in self.productValues:\n",
    "        try:\n",
    "          prodCosine= spatial.distance.cosine(custData[self.productValues[prod]].values[0],\n",
    "                                              self.dfTopTen[self.productValues[prod]].values[ind])\n",
    "          self.productCosines.loc[len(self.productCosines)] = [ind,prod,prodCosine]\n",
    "          self.newIndex+=1\n",
    "        except Exception as e:\n",
    "          print(\"Error: \",e)\n",
    "    \n",
    "    self.productCosines.sort_values(by = \"CosineSim\",inplace=True)\n",
    "\n",
    "    print(\"Most Similar 5 suggestions are:\\n\",self.productCosines.head(int(numberOfRecommendations/2)),\"\\n\")\n",
    "    print(\"Most DiSimilar similar 5 suggestions are:\\n\",self.productCosines.tail(int(numberOfRecommendations/2)),\"\\n\")\n",
    "\n",
    "    self.dfSimilar = (self.productCosines.head(int(numberOfRecommendations/2))).ProductId\n",
    "    self.dfDiSimilar = (self.productCosines.tail(int(numberOfRecommendations/2))).ProductId\n",
    "\n",
    "    self.result = list()\n",
    "    for i in range(0,int(numberOfRecommendations/2)):\n",
    "      SimilarprodId= self.dfSimilar.values[i]\n",
    "      self.result.append([SimilarprodId,(self.productValues[SimilarprodId][0]).split(\" \")[0],\"Similar\"])\n",
    "      DiSimilarprodId = self.dfDiSimilar.values[int(numberOfRecommendations/2)-i-1]\n",
    "      self.result.append([DiSimilarprodId,(self.productValues[DiSimilarprodId][0]).split(\" \")[0],\"DiSimilar\"])\n",
    "\n",
    "\n",
    "\n",
    "\n",
    "    return self.result\n",
    "\n"
   ]
  },
  {
   "cell_type": "code",
   "execution_count": null,
   "metadata": {
    "colab": {
     "base_uri": "https://localhost:8080/"
    },
    "id": "YCRea940IGyZ",
    "outputId": "0fc9ff42-cb7c-40a3-9538-c337743f8c99"
   },
   "outputs": [
    {
     "name": "stdout",
     "output_type": "stream",
     "text": [
      "Most Similar 5 suggestions are:\n",
      "     ReferenceIndex  ProductId     CosineSim\n",
      "10             2.0        0.0  1.850635e-07\n",
      "20             4.0        0.0  2.131967e-07\n",
      "35             7.0        0.0  2.743465e-07\n",
      "40             8.0        0.0  1.157502e-06\n",
      "18             3.0        3.0  1.811293e-06 \n",
      "\n",
      "Most DiSimilar similar 5 suggestions are:\n",
      "     ReferenceIndex  ProductId  CosineSim\n",
      "33             6.0        3.0        NaN\n",
      "34             6.0        4.0        NaN\n",
      "39             7.0        4.0        NaN\n",
      "44             8.0        4.0        NaN\n",
      "49             9.0        4.0        NaN \n",
      "\n"
     ]
    },
    {
     "name": "stderr",
     "output_type": "stream",
     "text": [
      "/usr/local/lib/python3.7/dist-packages/scipy/spatial/distance.py:720: RuntimeWarning: invalid value encountered in double_scalars\n",
      "  dist = 1.0 - uv / np.sqrt(uu * vv)\n"
     ]
    },
    {
     "data": {
      "text/plain": [
       "[[0.0, 'Wheat', 'Similar'],\n",
       " [4.0, 'Barley', 'DiSimilar'],\n",
       " [0.0, 'Wheat', 'Similar'],\n",
       " [4.0, 'Barley', 'DiSimilar'],\n",
       " [0.0, 'Wheat', 'Similar'],\n",
       " [4.0, 'Barley', 'DiSimilar'],\n",
       " [0.0, 'Wheat', 'Similar'],\n",
       " [4.0, 'Barley', 'DiSimilar'],\n",
       " [3.0, 'Maize', 'Similar'],\n",
       " [3.0, 'Maize', 'DiSimilar']]"
      ]
     },
     "execution_count": 128,
     "metadata": {},
     "output_type": "execute_result"
    }
   ],
   "source": [
    "myrecommend = RecommendationSystem(\"/content/data.csv\")\n",
    "\n",
    "result = myrecommend.find_Cosine_Similarity(\"Wade Overson\")\n",
    "result"
   ]
  }
 ],
 "metadata": {
  "colab": {
   "collapsed_sections": [],
   "name": "RecommendationEngine.ipynb",
   "provenance": []
  },
  "kernelspec": {
   "display_name": "Python 3 (ipykernel)",
   "language": "python",
   "name": "python3"
  },
  "language_info": {
   "codemirror_mode": {
    "name": "ipython",
    "version": 3
   },
   "file_extension": ".py",
   "mimetype": "text/x-python",
   "name": "python",
   "nbconvert_exporter": "python",
   "pygments_lexer": "ipython3",
   "version": "3.8.10"
  }
 },
 "nbformat": 4,
 "nbformat_minor": 1
}
